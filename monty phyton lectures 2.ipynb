{
 "cells": [
  {
   "cell_type": "markdown",
   "id": "4cd00180",
   "metadata": {},
   "source": [
    "# simulazione di un sitema monty-hall \n"
   ]
  },
  {
   "cell_type": "markdown",
   "id": "3202935a",
   "metadata": {},
   "source": [
    "3 outcomes : 2 negativi , 1 positivo\n"
   ]
  },
  {
   "cell_type": "code",
   "execution_count": 67,
   "id": "bcb860be",
   "metadata": {
    "scrolled": true
   },
   "outputs": [
    {
     "name": "stdout",
     "output_type": "stream",
     "text": [
      "1000\n",
      "0.336\n"
     ]
    }
   ],
   "source": [
    "import numpy as np\n",
    "from matplotlib import pyplot as plt\n",
    "from scipy import stats\n"
   ]
  },
  {
   "cell_type": "markdown",
   "id": "90729de4",
   "metadata": {},
   "source": [
    "scelta casuale porta "
   ]
  },
  {
   "cell_type": "code",
   "execution_count": null,
   "id": "4c4d664a",
   "metadata": {},
   "outputs": [],
   "source": [
    "import numpy as np\n",
    "from matplotlib import pyplot as plt\n",
    "from scipy import stats\n",
    "s=0\n",
    "r=0\n",
    "e=0\n",
    "n=100000\n",
    "for i in range(n):\n",
    " rd= np.random.randint(0,3)\n",
    " d=[0,0,0]\n",
    " d[rd]=1 \n",
    " rc=np.random.randint(0,3)\n",
    " d1=[0,1,2]\n",
    " if rc == rd :\n",
    "        d1.remove(rd)\n",
    "        mp=d1[np.random.randint(0,2)]\n",
    " else :\n",
    "        d1.remove(rc) \n",
    "        d1.remove(rd)\n",
    "        mp=d1[0]\n",
    " a=d[rc]\n",
    " if a==1 :\n",
    "    s=s+1\n",
    " d2=[0,1,2]\n",
    "\n",
    " d2.remove(mp)\n",
    " c= d[d2[np.random.randint(0,2)]]\n",
    " if c == 1:\n",
    "    e=e+1\n",
    "    \n",
    " d2.remove(rc)\n",
    " \n",
    " b=d[d2[0]]\n",
    " if b==1 :\n",
    "    r=r+1\n",
    "print(\"la probabilità non cambiando è\",s/n)  \n",
    "print(\"la probabilità cambiando è\",r/n)\n",
    "print(\"la probabilità da nuovo entrato è\",e/n)"
   ]
  },
  {
   "cell_type": "markdown",
   "id": "2a853ab1",
   "metadata": {},
   "source": [
    "Prova per N porte"
   ]
  },
  {
   "cell_type": "code",
   "execution_count": 25,
   "id": "7b61025a",
   "metadata": {},
   "outputs": [
    {
     "name": "stdout",
     "output_type": "stream",
     "text": [
      "88\n",
      "56\n",
      "[57, 88, 19, 2, 37, 95, 42, 91, 43, 44, 50, 1, 18, 79, 68, 14, 34, 69, 51, 75, 17, 27, 98, 81, 49, 9, 85, 29, 35, 6, 99, 53, 7, 41, 60, 61, 39, 84, 46, 15, 80, 64, 56, 93, 11, 33, 58, 13, 63, 3, 36, 8, 92, 86, 20, 5]\n",
      "0.0\n"
     ]
    }
   ],
   "source": [
    "import numpy as np\n",
    "from matplotlib import pyplot as plt\n",
    "from scipy import stats\n",
    "open=[]\n",
    "w=0\n",
    "r=0\n",
    "e=0\n",
    "p=90\n",
    "N=100\n",
    "n=1\n",
    "for i in range (n):\n",
    "    car= np.random.randint(0,N+1) \n",
    "    open.append(car)\n",
    "    scelta = np.random.randint(0,N+1)\n",
    "    for j in range (p):\n",
    "        o=np.random.randint(0,N+1)\n",
    "        if np.isin(o, open):\n",
    "            j=j\n",
    "        else:\n",
    "          open.append(o)\n",
    "          j=j+1\n",
    "    print(j)\n",
    "    open1=np.array(open)\n",
    "    print(open1.size)\n",
    "    print(open)\n",
    "    if car==scelta :\n",
    "        w=w+1\n",
    "print(w/n)"
   ]
  },
  {
   "cell_type": "code",
   "execution_count": null,
   "id": "d162e733",
   "metadata": {
    "scrolled": true
   },
   "outputs": [],
   "source": []
  },
  {
   "cell_type": "code",
   "execution_count": 49,
   "id": "fcb52d2d",
   "metadata": {
    "scrolled": true
   },
   "outputs": [
    {
     "name": "stdout",
     "output_type": "stream",
     "text": [
      "la probabilità non cambiando è 0.164\n",
      "la probabilità cambiando è 0.41\n",
      "la probabilità da nuovo entrato è 0.3333333333333333\n"
     ]
    }
   ],
   "source": [
    "import numpy as np\n",
    "from matplotlib import pyplot as plt\n",
    "from scipy import stats\n",
    "import random\n",
    "n=1000\n",
    "N=6\n",
    "rim=0\n",
    "cambia=0\n",
    "nuovo=0\n",
    "p=4\n",
    "for i in range (n):\n",
    "    door=np.zeros(N)\n",
    "    car=np.random.randint(0,N)\n",
    "    scelta=np.random.randint(0,N)\n",
    "    door[car]=1\n",
    "    aperte=np.arange(N)\n",
    "    aperte=np.random.choice(np.arange(N), size=p, replace=False)\n",
    "    posizioni=np.arange(0,N)\n",
    "    vect = np.array([car,scelta])\n",
    "    if car in aperte:\n",
    "        compl = np.setdiff1d(range(N),aperte)\n",
    "        aperte = np.append(aperte,random.choice(compl))\n",
    "        aperte=np.setdiff1d(aperte, vect)\n",
    "    if scelta in aperte:\n",
    "        compl = np.setdiff1d(range(N),aperte)\n",
    "        aperte = np.append(aperte,random.choice(compl))\n",
    "        aperte=np.setdiff1d(aperte, vect)\n",
    "    pos= np.setdiff1d(posizioni, aperte)\n",
    "    if door [scelta] == 1:\n",
    "        rim=rim+1\n",
    "    scelta = np.random.choice(pos)\n",
    "    if door [scelta] == 1:\n",
    "        cambia=cambia+1\n",
    "print(\"la probabilità non cambiando è\",rim/n)  \n",
    "print(\"la probabilità cambiando è\",cambia/n)\n",
    "print(\"la probabilità da nuovo entrato è\",1/(len(pos)))"
   ]
  },
  {
   "cell_type": "code",
   "execution_count": 37,
   "id": "1310c7a9",
   "metadata": {},
   "outputs": [
    {
     "name": "stdout",
     "output_type": "stream",
     "text": [
      "b\n"
     ]
    }
   ],
   "source": []
  },
  {
   "cell_type": "code",
   "execution_count": null,
   "id": "f20f445e",
   "metadata": {},
   "outputs": [],
   "source": []
  },
  {
   "cell_type": "code",
   "execution_count": null,
   "id": "4feda679",
   "metadata": {},
   "outputs": [],
   "source": []
  }
 ],
 "metadata": {
  "kernelspec": {
   "display_name": "Python 3 (ipykernel)",
   "language": "python",
   "name": "python3"
  },
  "language_info": {
   "codemirror_mode": {
    "name": "ipython",
    "version": 3
   },
   "file_extension": ".py",
   "mimetype": "text/x-python",
   "name": "python",
   "nbconvert_exporter": "python",
   "pygments_lexer": "ipython3",
   "version": "3.8.10"
  }
 },
 "nbformat": 4,
 "nbformat_minor": 5
}
