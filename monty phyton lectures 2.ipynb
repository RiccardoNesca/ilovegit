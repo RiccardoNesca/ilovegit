{
 "cells": [
  {
   "cell_type": "markdown",
   "id": "d7deaea5",
   "metadata": {},
   "source": [
    "# simulazione di un sitema monty-hall \n"
   ]
  },
  {
   "cell_type": "markdown",
   "id": "0e97a0e5",
   "metadata": {},
   "source": [
    "3 outcomes : 2 negativi , 1 positivo\n"
   ]
  },
  {
   "cell_type": "code",
   "execution_count": 67,
   "id": "f344b083",
   "metadata": {
    "scrolled": true
   },
   "outputs": [
    {
     "name": "stdout",
     "output_type": "stream",
     "text": [
      "1000\n",
      "0.336\n"
     ]
    }
   ],
   "source": [
    "import numpy as np\n",
    "from matplotlib import pyplot as plt\n",
    "from scipy import stats\n"
   ]
  },
  {
   "cell_type": "markdown",
   "id": "46d841af",
   "metadata": {},
   "source": [
    "scelta casuale porta "
   ]
  },
  {
   "cell_type": "code",
   "execution_count": 32,
   "id": "19015e63",
   "metadata": {},
   "outputs": [
    {
     "name": "stdout",
     "output_type": "stream",
     "text": [
      "[0 1 2]\n",
      "[0 1 2]\n",
      "[0 1 2]\n",
      "[0 1 2]\n",
      "10\n",
      "0.4\n",
      "0.4\n"
     ]
    }
   ],
   "source": [
    "import numpy as np\n",
    "from matplotlib import pyplot as plt\n",
    "from scipy import stats\n",
    "s=0\n",
    "r=0\n",
    "n=10\n",
    "for i in range(n):\n",
    " rd= np.random.randint(0,3)\n",
    " d=[0,0,0]\n",
    " d[rd]=1 \n",
    " rc=np.random.randint(0,3)\n",
    " d1=[0,1,2]\n",
    " if rc == rd :\n",
    "        d1= np.delete(d1, np.where(d1 == rd))\n",
    "        print(d1)\n",
    " if rc != rd :\n",
    "        d1= np.delete(d1, np.where(d1 == rc))\n",
    "        d1= np.delete(d1, np.where(d1 == rd))\n",
    "      \n",
    " a=d[rc]\n",
    " if a==1 :\n",
    "    s=s+1\n",
    " b=d[mp]\n",
    " if b==1 :\n",
    "    r=r+1\n",
    "print(n)\n",
    "print(s/n)   \n",
    "print(r/n)"
   ]
  },
  {
   "cell_type": "code",
   "execution_count": 31,
   "id": "c99bc40c",
   "metadata": {},
   "outputs": [
    {
     "name": "stdout",
     "output_type": "stream",
     "text": [
      "[0]\n"
     ]
    }
   ],
   "source": [
    "d1= np.delete(d1, np.where(d1 == rc))\n",
    "print(d1)"
   ]
  },
  {
   "cell_type": "code",
   "execution_count": null,
   "id": "e10300ab",
   "metadata": {},
   "outputs": [],
   "source": []
  },
  {
   "cell_type": "code",
   "execution_count": null,
   "id": "345a44c0",
   "metadata": {},
   "outputs": [],
   "source": []
  },
  {
   "cell_type": "code",
   "execution_count": null,
   "id": "54cadd8f",
   "metadata": {},
   "outputs": [],
   "source": []
  },
  {
   "cell_type": "code",
   "execution_count": null,
   "id": "60767b24",
   "metadata": {},
   "outputs": [],
   "source": []
  }
 ],
 "metadata": {
  "kernelspec": {
   "display_name": "Python 3 (ipykernel)",
   "language": "python",
   "name": "python3"
  },
  "language_info": {
   "codemirror_mode": {
    "name": "ipython",
    "version": 3
   },
   "file_extension": ".py",
   "mimetype": "text/x-python",
   "name": "python",
   "nbconvert_exporter": "python",
   "pygments_lexer": "ipython3",
   "version": "3.8.10"
  }
 },
 "nbformat": 4,
 "nbformat_minor": 5
}
