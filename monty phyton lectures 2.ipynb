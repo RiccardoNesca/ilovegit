{
 "cells": [
  {
   "cell_type": "markdown",
   "id": "4bc38f1c",
   "metadata": {},
   "source": [
    "# simulazione di un sitema monty-hall \n"
   ]
  },
  {
   "cell_type": "markdown",
   "id": "3caaa12b",
   "metadata": {},
   "source": [
    "3 outcomes : 2 negativi , 1 positivo\n"
   ]
  },
  {
   "cell_type": "code",
   "execution_count": 67,
   "id": "860c6509",
   "metadata": {
    "scrolled": true
   },
   "outputs": [
    {
     "name": "stdout",
     "output_type": "stream",
     "text": [
      "1000\n",
      "0.336\n"
     ]
    }
   ],
   "source": [
    "import numpy as np\n",
    "from matplotlib import pyplot as plt\n",
    "from scipy import stats\n"
   ]
  },
  {
   "cell_type": "markdown",
   "id": "0481e6c5",
   "metadata": {},
   "source": [
    "scelta casuale porta "
   ]
  },
  {
   "cell_type": "code",
   "execution_count": 43,
   "id": "9e3972f1",
   "metadata": {},
   "outputs": [
    {
     "name": "stdout",
     "output_type": "stream",
     "text": [
      "la probabilità non cambiando è 0.33228\n",
      "la probabilità cambiando è 0.66772\n",
      "la probabilità da nuovo entrato è 0.50235\n"
     ]
    }
   ],
   "source": [
    "import numpy as np\n",
    "from matplotlib import pyplot as plt\n",
    "from scipy import stats\n",
    "s=0\n",
    "r=0\n",
    "e=0\n",
    "n=100000\n",
    "for i in range(n):\n",
    " rd= np.random.randint(0,3)\n",
    " d=[0,0,0]\n",
    " d[rd]=1 \n",
    " rc=np.random.randint(0,3)\n",
    " d1=[0,1,2]\n",
    " if rc == rd :\n",
    "        d1.remove(rd)\n",
    "        mp=d1[np.random.randint(0,2)]\n",
    " else :\n",
    "        d1.remove(rc) \n",
    "        d1.remove(rd)\n",
    "        mp=d1[0]\n",
    " a=d[rc]\n",
    " if a==1 :\n",
    "    s=s+1\n",
    " d2=[0,1,2]\n",
    "\n",
    " d2.remove(mp)\n",
    " c= d[d2[np.random.randint(0,2)]]\n",
    " if c == 1:\n",
    "    e=e+1\n",
    "    \n",
    " d2.remove(rc)\n",
    " \n",
    " b=d[d2[0]]\n",
    " if b==1 :\n",
    "    r=r+1\n",
    "print(\"la probabilità non cambiando è\",s/n)  \n",
    "print(\"la probabilità cambiando è\",r/n)\n",
    "print(\"la probabilità da nuovo entrato è\",e/n)"
   ]
  },
  {
   "cell_type": "code",
   "execution_count": 31,
   "id": "77810025",
   "metadata": {},
   "outputs": [
    {
     "name": "stdout",
     "output_type": "stream",
     "text": [
      "[0]\n"
     ]
    }
   ],
   "source": []
  },
  {
   "cell_type": "code",
   "execution_count": 4,
   "id": "bf3f6462",
   "metadata": {},
   "outputs": [
    {
     "name": "stdout",
     "output_type": "stream",
     "text": [
      "[0 1]\n"
     ]
    }
   ],
   "source": []
  },
  {
   "cell_type": "code",
   "execution_count": null,
   "id": "11ef6b80",
   "metadata": {},
   "outputs": [],
   "source": []
  },
  {
   "cell_type": "code",
   "execution_count": null,
   "id": "5bf4e856",
   "metadata": {},
   "outputs": [],
   "source": []
  },
  {
   "cell_type": "code",
   "execution_count": null,
   "id": "bd7a02b2",
   "metadata": {},
   "outputs": [],
   "source": []
  }
 ],
 "metadata": {
  "kernelspec": {
   "display_name": "Python 3 (ipykernel)",
   "language": "python",
   "name": "python3"
  },
  "language_info": {
   "codemirror_mode": {
    "name": "ipython",
    "version": 3
   },
   "file_extension": ".py",
   "mimetype": "text/x-python",
   "name": "python",
   "nbconvert_exporter": "python",
   "pygments_lexer": "ipython3",
   "version": "3.8.10"
  }
 },
 "nbformat": 4,
 "nbformat_minor": 5
}
