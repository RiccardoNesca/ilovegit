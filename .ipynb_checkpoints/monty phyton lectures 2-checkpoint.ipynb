{
 "cells": [
  {
   "cell_type": "markdown",
   "id": "1c162429",
   "metadata": {},
   "source": [
    "# simulazione di un sitema monty-hall \n"
   ]
  },
  {
   "cell_type": "markdown",
   "id": "b53be3a3",
   "metadata": {},
   "source": [
    "3 outcomes : 2 negativi , 1 positivo\n"
   ]
  },
  {
   "cell_type": "code",
   "execution_count": 67,
   "id": "9e18846c",
   "metadata": {
    "scrolled": true
   },
   "outputs": [
    {
     "name": "stdout",
     "output_type": "stream",
     "text": [
      "1000\n",
      "0.336\n"
     ]
    }
   ],
   "source": [
    "import numpy as np\n",
    "from matplotlib import pyplot as plt\n",
    "from scipy import stats\n"
   ]
  },
  {
   "cell_type": "markdown",
   "id": "3645eb9f",
   "metadata": {},
   "source": [
    "scelta casuale porta "
   ]
  },
  {
   "cell_type": "code",
   "execution_count": null,
   "id": "27baef36",
   "metadata": {},
   "outputs": [],
   "source": [
    "import numpy as np\n",
    "from matplotlib import pyplot as plt\n",
    "from scipy import stats\n",
    "s=0\n",
    "r=0\n",
    "e=0\n",
    "n=100000\n",
    "for i in range(n):\n",
    " rd= np.random.randint(0,3)\n",
    " d=[0,0,0]\n",
    " d[rd]=1 \n",
    " rc=np.random.randint(0,3)\n",
    " d1=[0,1,2]\n",
    " if rc == rd :\n",
    "        d1.remove(rd)\n",
    "        mp=d1[np.random.randint(0,2)]\n",
    " else :\n",
    "        d1.remove(rc) \n",
    "        d1.remove(rd)\n",
    "        mp=d1[0]\n",
    " a=d[rc]\n",
    " if a==1 :\n",
    "    s=s+1\n",
    " d2=[0,1,2]\n",
    "\n",
    " d2.remove(mp)\n",
    " c= d[d2[np.random.randint(0,2)]]\n",
    " if c == 1:\n",
    "    e=e+1\n",
    "    \n",
    " d2.remove(rc)\n",
    " \n",
    " b=d[d2[0]]\n",
    " if b==1 :\n",
    "    r=r+1\n",
    "print(\"la probabilità non cambiando è\",s/n)  \n",
    "print(\"la probabilità cambiando è\",r/n)\n",
    "print(\"la probabilità da nuovo entrato è\",e/n)"
   ]
  },
  {
   "cell_type": "markdown",
   "id": "68b9ae86",
   "metadata": {},
   "source": [
    "Prova per N porte"
   ]
  },
  {
   "cell_type": "code",
   "execution_count": 25,
   "id": "095206cb",
   "metadata": {},
   "outputs": [
    {
     "name": "stdout",
     "output_type": "stream",
     "text": [
      "88\n",
      "56\n",
      "[57, 88, 19, 2, 37, 95, 42, 91, 43, 44, 50, 1, 18, 79, 68, 14, 34, 69, 51, 75, 17, 27, 98, 81, 49, 9, 85, 29, 35, 6, 99, 53, 7, 41, 60, 61, 39, 84, 46, 15, 80, 64, 56, 93, 11, 33, 58, 13, 63, 3, 36, 8, 92, 86, 20, 5]\n",
      "0.0\n"
     ]
    }
   ],
   "source": [
    "import numpy as np\n",
    "from matplotlib import pyplot as plt\n",
    "from scipy import stats\n",
    "open=[]\n",
    "w=0\n",
    "r=0\n",
    "e=0\n",
    "p=90\n",
    "N=100\n",
    "n=1\n",
    "for i in range (n):\n",
    "    car= np.random.randint(0,N+1) \n",
    "    open.append(car)\n",
    "    scelta = np.random.randint(0,N+1)\n",
    "    for j in range (p):\n",
    "        o=np.random.randint(0,N+1)\n",
    "        if np.isin(o, open):\n",
    "            j=j\n",
    "        else:\n",
    "          open.append(o)\n",
    "          j=j+1\n",
    "    print(j)\n",
    "    open1=np.array(open)\n",
    "    print(open1.size)\n",
    "    print(open)\n",
    "    if car==scelta :\n",
    "        w=w+1\n",
    "print(w/n)"
   ]
  },
  {
   "cell_type": "code",
   "execution_count": null,
   "id": "f37dae7e",
   "metadata": {
    "scrolled": true
   },
   "outputs": [],
   "source": [
    "import numpy as np\n",
    "from matplotlib import pyplot as plt\n",
    "from scipy import stats\n",
    "n=100\n",
    "N=10\n",
    "w=0\n",
    "p=7\n",
    "for i in range (n):\n",
    "    door=np.zeros(N)\n",
    "    car=np.random.randint(0,N)\n",
    "    scelta=np.random.randint(0,N)\n",
    "    door[car]=1\n",
    "    posizioni=np.arange(N)\n",
    "    presentatore=np.random.choice(np.arange(N), size=p, replace=False)\n",
    "   \n",
    "        \n",
    "    pos= np.setdiff1d(posizioni, presentatore)\n",
    "    scelta = np.random.choice(pos)\n",
    "    if door [scelta] == 1:\n",
    "        w=w+1\n",
    "print(w/n)"
   ]
  },
  {
   "cell_type": "code",
   "execution_count": 1,
   "id": "696a63df",
   "metadata": {
    "scrolled": true
   },
   "outputs": [
    {
     "ename": "ValueError",
     "evalue": "The truth value of an array with more than one element is ambiguous. Use a.any() or a.all()",
     "output_type": "error",
     "traceback": [
      "\u001b[0;31m---------------------------------------------------------------------------\u001b[0m",
      "\u001b[0;31mValueError\u001b[0m                                Traceback (most recent call last)",
      "\u001b[0;32m/tmp/ipykernel_31161/3604311928.py\u001b[0m in \u001b[0;36m<module>\u001b[0;34m\u001b[0m\n\u001b[1;32m     18\u001b[0m         \u001b[0mpresentatore\u001b[0m \u001b[0;34m=\u001b[0m \u001b[0mnp\u001b[0m\u001b[0;34m.\u001b[0m\u001b[0mappend\u001b[0m\u001b[0;34m(\u001b[0m\u001b[0mpresentatore\u001b[0m\u001b[0;34m,\u001b[0m\u001b[0mrandom\u001b[0m\u001b[0;34m.\u001b[0m\u001b[0mchoice\u001b[0m\u001b[0;34m(\u001b[0m\u001b[0mcompl\u001b[0m\u001b[0;34m)\u001b[0m\u001b[0;34m)\u001b[0m\u001b[0;34m\u001b[0m\u001b[0;34m\u001b[0m\u001b[0m\n\u001b[1;32m     19\u001b[0m         \u001b[0mpresentatore\u001b[0m\u001b[0;34m=\u001b[0m\u001b[0;34m(\u001b[0m\u001b[0mpresentatore\u001b[0m\u001b[0;34m,\u001b[0m \u001b[0mcar\u001b[0m\u001b[0;34m)\u001b[0m\u001b[0;34m\u001b[0m\u001b[0;34m\u001b[0m\u001b[0m\n\u001b[0;32m---> 20\u001b[0;31m     \u001b[0;32mif\u001b[0m \u001b[0mscelta\u001b[0m \u001b[0;32min\u001b[0m \u001b[0mpresentatore\u001b[0m\u001b[0;34m:\u001b[0m\u001b[0;34m\u001b[0m\u001b[0;34m\u001b[0m\u001b[0m\n\u001b[0m\u001b[1;32m     21\u001b[0m         \u001b[0mcompl\u001b[0m \u001b[0;34m=\u001b[0m \u001b[0mnp\u001b[0m\u001b[0;34m.\u001b[0m\u001b[0msetdiff1d\u001b[0m\u001b[0;34m(\u001b[0m\u001b[0mrange\u001b[0m\u001b[0;34m(\u001b[0m\u001b[0mN\u001b[0m\u001b[0;34m)\u001b[0m\u001b[0;34m,\u001b[0m\u001b[0mpresentatore\u001b[0m\u001b[0;34m)\u001b[0m\u001b[0;34m\u001b[0m\u001b[0;34m\u001b[0m\u001b[0m\n\u001b[1;32m     22\u001b[0m         \u001b[0mpresentatore\u001b[0m \u001b[0;34m=\u001b[0m \u001b[0mnp\u001b[0m\u001b[0;34m.\u001b[0m\u001b[0mappend\u001b[0m\u001b[0;34m(\u001b[0m\u001b[0mpresentatore\u001b[0m\u001b[0;34m,\u001b[0m\u001b[0mrandom\u001b[0m\u001b[0;34m.\u001b[0m\u001b[0mchoice\u001b[0m\u001b[0;34m(\u001b[0m\u001b[0mcompl\u001b[0m\u001b[0;34m)\u001b[0m\u001b[0;34m)\u001b[0m\u001b[0;34m\u001b[0m\u001b[0;34m\u001b[0m\u001b[0m\n",
      "\u001b[0;31mValueError\u001b[0m: The truth value of an array with more than one element is ambiguous. Use a.any() or a.all()"
     ]
    }
   ],
   "source": [
    "import numpy as np\n",
    "from matplotlib import pyplot as plt\n",
    "from scipy import stats\n",
    "import random\n",
    "n=100\n",
    "N=10\n",
    "w=0\n",
    "p=7\n",
    "for i in range (n):\n",
    "    door=np.zeros(N)\n",
    "    car=np.random.randint(0,N)\n",
    "    scelta=np.random.randint(0,N)\n",
    "    door[car]=1\n",
    "    posizioni=np.arange(N)\n",
    "    presentatore=np.random.choice(np.arange(N), size=p, replace=False)\n",
    "    if car in presentatore:\n",
    "        compl = np.setdiff1d(range(N),presentatore)\n",
    "        presentatore = np.append(presentatore,random.choice(compl))\n",
    "        presentatore=(presentatore, car)\n",
    "    if scelta in presentatore:\n",
    "        compl = np.setdiff1d(range(N),presentatore)\n",
    "        presentatore = np.append(presentatore,random.choice(compl))\n",
    "        presentatore=(presentatore, scelta)\n",
    "    pos= np.setdiff1d(posizioni, presentatore)\n",
    "    scelta = np.random.choice(pos)\n",
    "    if door [scelta] == 1:\n",
    "        w=w+1\n",
    "print(w/n)"
   ]
  },
  {
   "cell_type": "code",
   "execution_count": 28,
   "id": "96814248",
   "metadata": {},
   "outputs": [
    {
     "name": "stdout",
     "output_type": "stream",
     "text": [
      "b\n"
     ]
    }
   ],
   "source": [
    "a= [1,2,3,4]\n",
    "b= 5\n",
    "if b in a :\n",
    "    print(\"a\")\n",
    "else:\n",
    "    print (\"b\")"
   ]
  },
  {
   "cell_type": "code",
   "execution_count": null,
   "id": "172354d7",
   "metadata": {},
   "outputs": [],
   "source": []
  }
 ],
 "metadata": {
  "kernelspec": {
   "display_name": "Python 3 (ipykernel)",
   "language": "python",
   "name": "python3"
  },
  "language_info": {
   "codemirror_mode": {
    "name": "ipython",
    "version": 3
   },
   "file_extension": ".py",
   "mimetype": "text/x-python",
   "name": "python",
   "nbconvert_exporter": "python",
   "pygments_lexer": "ipython3",
   "version": "3.8.10"
  }
 },
 "nbformat": 4,
 "nbformat_minor": 5
}
